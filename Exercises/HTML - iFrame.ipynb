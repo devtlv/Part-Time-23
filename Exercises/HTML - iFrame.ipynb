{
 "cells": [
  {
   "cell_type": "markdown",
   "metadata": {},
   "source": [
    "# iFrame\n",
    "\n",
    "Write an html page that talks about <a href=\"https://www.w3schools.com/html/html_iframe.asp\">html iframe</a>, the page should contain:\n",
    "-  A little description iFrame is\n",
    "-  A youtube video in an iframe\n",
    "\n",
    "Take a look at the <a href=\"https://www.w3schools.com/tags/tag_iframe.asp\">attributes</a> and play with them to make something pretty"
   ]
  }
 ],
 "metadata": {
  "kernelspec": {
   "display_name": "Python 3",
   "language": "python",
   "name": "python3"
  },
  "language_info": {
   "codemirror_mode": {
    "name": "ipython",
    "version": 3
   },
   "file_extension": ".py",
   "mimetype": "text/x-python",
   "name": "python",
   "nbconvert_exporter": "python",
   "pygments_lexer": "ipython3",
   "version": "3.6.5"
  }
 },
 "nbformat": 4,
 "nbformat_minor": 2
}
