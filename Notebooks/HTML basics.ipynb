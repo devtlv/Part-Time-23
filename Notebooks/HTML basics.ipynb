{
 "cells": [
  {
   "cell_type": "markdown",
   "metadata": {},
   "source": [
    "# HTML"
   ]
  },
  {
   "cell_type": "markdown",
   "metadata": {},
   "source": [
    "### HTML ? \n",
    "\n",
    "HTML --> hypertext markup language.  \n",
    "Markup language: computer language that use tags to define elements.  \n",
    "  \n",
    "Browsers like Chrome or Firefox are softwares that can read HTML files.  \n",
    "Every web page is an HTML page. "
   ]
  },
  {
   "cell_type": "markdown",
   "metadata": {},
   "source": [
    "### HTML files structure\n",
    "\n",
    "An HTML element is defined by a start tag and an end tag, with the content inserted between:  \n",
    "`<element-type>My element value</element-type>`  \n",
    "> Notice how a tag is closed with the slash  \n",
    "Some tags don't need to be closed, they're called orphan tags: `<element />`\n",
    "\n",
    "A HTML file is a text file with the `.html` extension, the code needs to start with `<!DOCTYPE html>`.  \n",
    "All the html code is inside an html element (`<html>`).  \n",
    "\n",
    "The html code is separated in two big parts, the `<head>` and the `<body>`.  \n",
    "The body is the visible part of the html code, while the head is here to add some config to the file."
   ]
  },
  {
   "cell_type": "markdown",
   "metadata": {},
   "source": [
    "### HTML elements\n",
    "A lot of elements are available in HTML, here are some popular ones:  \n",
    "\n",
    "### HTML head elements:\n",
    "`<title>` is used to define the title of the tab  \n",
    "\n",
    "#### HTML headings - Used for titles and big texts: \n",
    "<h1><raw>`<h1>h1 heading</h1>`</raw></h1>  \n",
    "<h2><raw>`<h2>h2 heading</h2>`</raw></h2>  \n",
    "<h3><raw>`<h3>h3 heading</h3>`</raw></h3>  \n",
    "<h4><raw>`<h4>h4 heading</h4>`</raw></h4>  \n",
    "<h5><raw>`<h5>h5 heading</h5>`</raw></h5>  \n",
    "<h6><raw>`<h6>h6 heading</h6>`</raw></h6>  \n",
    "\n",
    "#### HTML text elements:\n",
    "<p>`<p>I'm a paragraph</p>`</p>\n",
    "<b>`<b>I'm a bold paragraph</b>`</b>  \n",
    "<i>`<i>I'm an italic paragraph</i>`</i>  \n",
    "\n",
    "#### HTML divisions - Used to create sections in the code:\n",
    "<div>`<div><p>I'm in a division</p></div>`</div>  \n",
    "`<p>I got two <span>sections</span></p>`\n",
    "\n",
    "#### HTML separators:\n",
    "New line: `<br>` \n",
    "Horizontal line: `<hr>`  \n",
    "\n",
    "#### HTML lists - Used to render a list of elements:\n",
    "`<ul>` and `<ol>` tags can be used to define a list.  \n",
    "List elements needs to be in `<li>` tag.\n",
    "\n",
    "#### HTML comments - They are here to comment the code, they won't be executed:\n",
    "`<!-- My comment -->`"
   ]
  },
  {
   "cell_type": "markdown",
   "metadata": {},
   "source": [
    "### HTML elements attributes\n",
    "\n",
    "Attributes are given to html elements to specify some property of the element.  \n",
    "They are defined in this way: `<element attribute=\"value\"></element>`  \n",
    "\n",
    "For example, the link tag `<a>` needs to receive the url he should link to:  \n",
    "`<a href=\"www.google.com\"></a>` will redirect to `www.google.com`.  \n",
    "\n",
    "In the same way, the image tag `<img>` needs to receive the url of the image he should display:  \n",
    "`<img src=\"path/to/image.png\" />`\n",
    "\n",
    "> `href` and `src` attributes can be both absolute and relative  "
   ]
  },
  {
   "cell_type": "markdown",
   "metadata": {},
   "source": [
    "### More attributes\n",
    "\n",
    "Check <a href=\"https://www.w3schools.com/html/\">html documentation on w3schools</a> for more attributes"
   ]
  }
 ],
 "metadata": {
  "kernelspec": {
   "display_name": "Python 3",
   "language": "python",
   "name": "python3"
  },
  "language_info": {
   "codemirror_mode": {
    "name": "ipython",
    "version": 3
   },
   "file_extension": ".py",
   "mimetype": "text/x-python",
   "name": "python",
   "nbconvert_exporter": "python",
   "pygments_lexer": "ipython3",
   "version": "3.6.5"
  }
 },
 "nbformat": 4,
 "nbformat_minor": 2
}
